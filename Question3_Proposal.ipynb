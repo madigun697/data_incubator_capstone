{
 "cells": [
  {
   "cell_type": "code",
   "execution_count": 1,
   "metadata": {},
   "outputs": [],
   "source": [
    "import pandas as pd\n",
    "import numpy as np\n",
    "import matplotlib.pyplot as plt\n",
    "import scipy.stats as stats"
   ]
  },
  {
   "cell_type": "code",
   "execution_count": 2,
   "metadata": {},
   "outputs": [],
   "source": [
    "#그래프 기본 설정\n",
    "plt.style.use('ggplot')\n",
    "plt.rcParams[\"figure.figsize\"] = (10,5)\n",
    "\n",
    "#print 옵션\n",
    "pd.set_option('display.max_rows', 500)\n",
    "pd.set_option('display.max_columns', 500)\n",
    "pd.set_option('display.width', 1000)\n",
    "pd.set_option('display.max_colwidth', 500)\n",
    "\n",
    "#워닝 안뜨게\n",
    "import warnings\n",
    "warnings.filterwarnings('ignore')\n",
    "\n",
    "np.random.seed(0)"
   ]
  },
  {
   "cell_type": "markdown",
   "metadata": {},
   "source": [
    "## Load Dataset"
   ]
  },
  {
   "cell_type": "markdown",
   "metadata": {},
   "source": [
    "* https://www.kaggle.com/austinreese/craigslist-carstrucks-data"
   ]
  },
  {
   "cell_type": "code",
   "execution_count": 3,
   "metadata": {},
   "outputs": [],
   "source": [
    "df = pd.read_csv('./craigslistVehicles.csv')"
   ]
  },
  {
   "cell_type": "code",
   "execution_count": 4,
   "metadata": {},
   "outputs": [
    {
     "data": {
      "text/html": [
       "<div>\n",
       "<style scoped>\n",
       "    .dataframe tbody tr th:only-of-type {\n",
       "        vertical-align: middle;\n",
       "    }\n",
       "\n",
       "    .dataframe tbody tr th {\n",
       "        vertical-align: top;\n",
       "    }\n",
       "\n",
       "    .dataframe thead th {\n",
       "        text-align: right;\n",
       "    }\n",
       "</style>\n",
       "<table border=\"1\" class=\"dataframe\">\n",
       "  <thead>\n",
       "    <tr style=\"text-align: right;\">\n",
       "      <th></th>\n",
       "      <th>url</th>\n",
       "      <th>city</th>\n",
       "      <th>city_url</th>\n",
       "      <th>price</th>\n",
       "      <th>year</th>\n",
       "      <th>manufacturer</th>\n",
       "      <th>make</th>\n",
       "      <th>condition</th>\n",
       "      <th>cylinders</th>\n",
       "      <th>fuel</th>\n",
       "      <th>odometer</th>\n",
       "      <th>title_status</th>\n",
       "      <th>transmission</th>\n",
       "      <th>VIN</th>\n",
       "      <th>drive</th>\n",
       "      <th>size</th>\n",
       "      <th>type</th>\n",
       "      <th>paint_color</th>\n",
       "      <th>image_url</th>\n",
       "      <th>desc</th>\n",
       "      <th>lat</th>\n",
       "      <th>long</th>\n",
       "    </tr>\n",
       "  </thead>\n",
       "  <tbody>\n",
       "    <tr>\n",
       "      <th>0</th>\n",
       "      <td>https://abilene.craigslist.org/cto/d/aspermont-2009-chevrolet-suburban-lt/6977351526.html</td>\n",
       "      <td>abilene, TX</td>\n",
       "      <td>https://abilene.craigslist.org</td>\n",
       "      <td>9000</td>\n",
       "      <td>2009.0</td>\n",
       "      <td>chevrolet</td>\n",
       "      <td>suburban lt2</td>\n",
       "      <td>good</td>\n",
       "      <td>8 cylinders</td>\n",
       "      <td>gas</td>\n",
       "      <td>217743.0</td>\n",
       "      <td>clean</td>\n",
       "      <td>automatic</td>\n",
       "      <td>1GFNC26099R211276</td>\n",
       "      <td>rwd</td>\n",
       "      <td>full-size</td>\n",
       "      <td>SUV</td>\n",
       "      <td>white</td>\n",
       "      <td>https://images.craigslist.org/00909_5P6f1E6zHlj_600x450.jpg</td>\n",
       "      <td>2WD 1/2 ton\\nLeather Captains Chairs\\nIn good condition- 217743 miles\\n2 owner family car</td>\n",
       "      <td>33.130100</td>\n",
       "      <td>-100.234400</td>\n",
       "    </tr>\n",
       "    <tr>\n",
       "      <th>1</th>\n",
       "      <td>https://abilene.craigslist.org/ctd/d/liberty-hill-2012-ram-2500-slt-mega-cab/6977347322.html</td>\n",
       "      <td>abilene, TX</td>\n",
       "      <td>https://abilene.craigslist.org</td>\n",
       "      <td>31999</td>\n",
       "      <td>2012.0</td>\n",
       "      <td>ram</td>\n",
       "      <td>2500</td>\n",
       "      <td>NaN</td>\n",
       "      <td>NaN</td>\n",
       "      <td>diesel</td>\n",
       "      <td>NaN</td>\n",
       "      <td>clean</td>\n",
       "      <td>automatic</td>\n",
       "      <td>NaN</td>\n",
       "      <td>NaN</td>\n",
       "      <td>NaN</td>\n",
       "      <td>NaN</td>\n",
       "      <td>NaN</td>\n",
       "      <td>https://images.craigslist.org/00u0u_24XW8uhLYPb_600x450.jpg</td>\n",
       "      <td>www.GETADIESEL.com\\n2012 RAM 2500 SLT 4X4 MEGA CAB\\n\\n6.7L CUMMINS TURBO DIESEL\\n\\n6 AUTOMATIC TRANSMISSION \\n\\n4 WHEEL DRIVE\\n\\nONLY 110K MILES\\n\\n2 OWNER\\n\\nTEXAS TRUCK \\n\\n35X12.50X17 BFG AT TIRES\\n\\nFIXED CENTER CONSOLE\\n\\nPOWER DRIVER SEAT\\n\\nPOWER SLIDING REAR WINDOW\\n\\nPOWER WINDOWS \\n\\nPOWER LOCKS\\n\\nELECTRONIC 4X4\\n\\nCARFAX CERTIFIED!! \\n\\nCALL OR TEXT FOR MORE PICTURES OR VIDEOS!!!\\n\\nTRADE INS? YES, WE TAKE THEM! CONTACT US WITH YOUR VEHICLE INFO FOR A FREE APPRAISAL!\\n\\nWANT TO S...</td>\n",
       "      <td>30.648368</td>\n",
       "      <td>-97.862949</td>\n",
       "    </tr>\n",
       "    <tr>\n",
       "      <th>2</th>\n",
       "      <td>https://abilene.craigslist.org/ctd/d/liberty-hill-2003-dodge-ram-3500/6977302857.html</td>\n",
       "      <td>abilene, TX</td>\n",
       "      <td>https://abilene.craigslist.org</td>\n",
       "      <td>16990</td>\n",
       "      <td>2003.0</td>\n",
       "      <td>ram</td>\n",
       "      <td>3500</td>\n",
       "      <td>NaN</td>\n",
       "      <td>NaN</td>\n",
       "      <td>diesel</td>\n",
       "      <td>NaN</td>\n",
       "      <td>clean</td>\n",
       "      <td>manual</td>\n",
       "      <td>NaN</td>\n",
       "      <td>NaN</td>\n",
       "      <td>NaN</td>\n",
       "      <td>NaN</td>\n",
       "      <td>NaN</td>\n",
       "      <td>https://images.craigslist.org/00l0l_H1UKTJ4sTI_600x450.jpg</td>\n",
       "      <td>www.GETADIESEL.com\\n2003 DODGE RAM 3500 LARAMIE 4X4 \\n\\n5.9L CUMMINS TURBO DIESEL\\n\\n6 SPEED MANUAL TRANSMISSION \\n\\n4 WHEEL DRIVE\\n\\n261K MILES\\n\\nCLEAN CARFAX\\n\\nTEXAS TRUCK \\n\\nLOCALLY OWNED\\n\\n35X12.50X17 TOYO RT TIRES\\n\\nPOWER WINDOWS \\n\\nPOWER LOCKS\\n\\nFACTORY HEATED SEATS\\n\\nFACTORY ELECTRONIC 4X4 \\n\\nHARD TO FIND 6 SPEED MANUAL\\n\\nCARFAX CERTIFIED!! \\n\\nCALL OR TEXT FOR MORE PICTURES OR VIDEOS!!!\\n\\nTRADE INS? YES, WE TAKE THEM! CONTACT US WITH YOUR VEHICLE INFO FOR A FREE APPRAISAL!...</td>\n",
       "      <td>30.648516</td>\n",
       "      <td>-97.862434</td>\n",
       "    </tr>\n",
       "    <tr>\n",
       "      <th>3</th>\n",
       "      <td>https://abilene.craigslist.org/cto/d/merkel-2002-gmc-sierra-1500/6977272965.html</td>\n",
       "      <td>abilene, TX</td>\n",
       "      <td>https://abilene.craigslist.org</td>\n",
       "      <td>6000</td>\n",
       "      <td>2002.0</td>\n",
       "      <td>gmc</td>\n",
       "      <td>sierra 1500</td>\n",
       "      <td>good</td>\n",
       "      <td>8 cylinders</td>\n",
       "      <td>gas</td>\n",
       "      <td>195000.0</td>\n",
       "      <td>clean</td>\n",
       "      <td>automatic</td>\n",
       "      <td>NaN</td>\n",
       "      <td>4wd</td>\n",
       "      <td>NaN</td>\n",
       "      <td>pickup</td>\n",
       "      <td>white</td>\n",
       "      <td>https://images.craigslist.org/00M0M_2wKzc7dKLU1_600x450.jpg</td>\n",
       "      <td>2002 GMC Sierra Extended Cab Truck For Sale! Runs good and everything works! My son is going into the military and just doesnât need it anymore. Has a new stereo system and seat covers for front and back seats. Donât hesitate to ask questions or to make an offer. Serious inquiries only, please! Thanks and God Bless.</td>\n",
       "      <td>32.444400</td>\n",
       "      <td>-99.992400</td>\n",
       "    </tr>\n",
       "    <tr>\n",
       "      <th>4</th>\n",
       "      <td>https://abilene.craigslist.org/cto/d/breckenridge-2012-chevrolet-lincoln/6977231838.html</td>\n",
       "      <td>abilene, TX</td>\n",
       "      <td>https://abilene.craigslist.org</td>\n",
       "      <td>37000</td>\n",
       "      <td>2012.0</td>\n",
       "      <td>chevrolet</td>\n",
       "      <td>3500</td>\n",
       "      <td>excellent</td>\n",
       "      <td>8 cylinders</td>\n",
       "      <td>diesel</td>\n",
       "      <td>178000.0</td>\n",
       "      <td>clean</td>\n",
       "      <td>automatic</td>\n",
       "      <td>NaN</td>\n",
       "      <td>4wd</td>\n",
       "      <td>full-size</td>\n",
       "      <td>pickup</td>\n",
       "      <td>silver</td>\n",
       "      <td>https://images.craigslist.org/00r0r_eW1YWlKfCGd_600x450.jpg</td>\n",
       "      <td>2012 Chevrolet 3500 178k miles, runs and drives good\\n\\n1978 SA200 blackface recently restored, starts, runs, and welds great \\n\\nWelding bed in great shape everything is in proper working c</td>\n",
       "      <td>32.781689</td>\n",
       "      <td>-98.942248</td>\n",
       "    </tr>\n",
       "  </tbody>\n",
       "</table>\n",
       "</div>"
      ],
      "text/plain": [
       "                                                                                            url         city                        city_url  price    year manufacturer          make  condition    cylinders    fuel  odometer title_status transmission                VIN drive       size    type paint_color                                                    image_url                                                                                                                                                                                                                                                                                                                                                                                                                                                                                                                 desc        lat        long\n",
       "0     https://abilene.craigslist.org/cto/d/aspermont-2009-chevrolet-suburban-lt/6977351526.html  abilene, TX  https://abilene.craigslist.org   9000  2009.0    chevrolet  suburban lt2       good  8 cylinders     gas  217743.0        clean    automatic  1GFNC26099R211276   rwd  full-size     SUV       white  https://images.craigslist.org/00909_5P6f1E6zHlj_600x450.jpg                                                                                                                                                                                                                                                                                                                                                                                                                            2WD 1/2 ton\\nLeather Captains Chairs\\nIn good condition- 217743 miles\\n2 owner family car  33.130100 -100.234400\n",
       "1  https://abilene.craigslist.org/ctd/d/liberty-hill-2012-ram-2500-slt-mega-cab/6977347322.html  abilene, TX  https://abilene.craigslist.org  31999  2012.0          ram          2500        NaN          NaN  diesel       NaN        clean    automatic                NaN   NaN        NaN     NaN         NaN  https://images.craigslist.org/00u0u_24XW8uhLYPb_600x450.jpg  www.GETADIESEL.com\\n2012 RAM 2500 SLT 4X4 MEGA CAB\\n\\n6.7L CUMMINS TURBO DIESEL\\n\\n6 AUTOMATIC TRANSMISSION \\n\\n4 WHEEL DRIVE\\n\\nONLY 110K MILES\\n\\n2 OWNER\\n\\nTEXAS TRUCK \\n\\n35X12.50X17 BFG AT TIRES\\n\\nFIXED CENTER CONSOLE\\n\\nPOWER DRIVER SEAT\\n\\nPOWER SLIDING REAR WINDOW\\n\\nPOWER WINDOWS \\n\\nPOWER LOCKS\\n\\nELECTRONIC 4X4\\n\\nCARFAX CERTIFIED!! \\n\\nCALL OR TEXT FOR MORE PICTURES OR VIDEOS!!!\\n\\nTRADE INS? YES, WE TAKE THEM! CONTACT US WITH YOUR VEHICLE INFO FOR A FREE APPRAISAL!\\n\\nWANT TO S...  30.648368  -97.862949\n",
       "2         https://abilene.craigslist.org/ctd/d/liberty-hill-2003-dodge-ram-3500/6977302857.html  abilene, TX  https://abilene.craigslist.org  16990  2003.0          ram          3500        NaN          NaN  diesel       NaN        clean       manual                NaN   NaN        NaN     NaN         NaN   https://images.craigslist.org/00l0l_H1UKTJ4sTI_600x450.jpg  www.GETADIESEL.com\\n2003 DODGE RAM 3500 LARAMIE 4X4 \\n\\n5.9L CUMMINS TURBO DIESEL\\n\\n6 SPEED MANUAL TRANSMISSION \\n\\n4 WHEEL DRIVE\\n\\n261K MILES\\n\\nCLEAN CARFAX\\n\\nTEXAS TRUCK \\n\\nLOCALLY OWNED\\n\\n35X12.50X17 TOYO RT TIRES\\n\\nPOWER WINDOWS \\n\\nPOWER LOCKS\\n\\nFACTORY HEATED SEATS\\n\\nFACTORY ELECTRONIC 4X4 \\n\\nHARD TO FIND 6 SPEED MANUAL\\n\\nCARFAX CERTIFIED!! \\n\\nCALL OR TEXT FOR MORE PICTURES OR VIDEOS!!!\\n\\nTRADE INS? YES, WE TAKE THEM! CONTACT US WITH YOUR VEHICLE INFO FOR A FREE APPRAISAL!...  30.648516  -97.862434\n",
       "3              https://abilene.craigslist.org/cto/d/merkel-2002-gmc-sierra-1500/6977272965.html  abilene, TX  https://abilene.craigslist.org   6000  2002.0          gmc   sierra 1500       good  8 cylinders     gas  195000.0        clean    automatic                NaN   4wd        NaN  pickup       white  https://images.craigslist.org/00M0M_2wKzc7dKLU1_600x450.jpg                                                                                                                                                                                    2002 GMC Sierra Extended Cab Truck For Sale! Runs good and everything works! My son is going into the military and just doesnât need it anymore. Has a new stereo system and seat covers for front and back seats. Donât hesitate to ask questions or to make an offer. Serious inquiries only, please! Thanks and God Bless.  32.444400  -99.992400\n",
       "4      https://abilene.craigslist.org/cto/d/breckenridge-2012-chevrolet-lincoln/6977231838.html  abilene, TX  https://abilene.craigslist.org  37000  2012.0    chevrolet          3500  excellent  8 cylinders  diesel  178000.0        clean    automatic                NaN   4wd  full-size  pickup      silver  https://images.craigslist.org/00r0r_eW1YWlKfCGd_600x450.jpg                                                                                                                                                                                                                                                                                                                       2012 Chevrolet 3500 178k miles, runs and drives good\\n\\n1978 SA200 blackface recently restored, starts, runs, and welds great \\n\\nWelding bed in great shape everything is in proper working c  32.781689  -98.942248"
      ]
     },
     "execution_count": 4,
     "metadata": {},
     "output_type": "execute_result"
    }
   ],
   "source": [
    "df.head()"
   ]
  },
  {
   "cell_type": "markdown",
   "metadata": {},
   "source": [
    "## Filter used column only"
   ]
  },
  {
   "cell_type": "code",
   "execution_count": 5,
   "metadata": {},
   "outputs": [],
   "source": [
    "df = df[['city', 'price', 'year', 'manufacturer', 'make', 'condition', 'cylinders', 'fuel', 'odometer', 'transmission', 'drive', 'size', 'type', 'paint_color']]"
   ]
  },
  {
   "cell_type": "code",
   "execution_count": 6,
   "metadata": {},
   "outputs": [
    {
     "data": {
      "text/html": [
       "<div>\n",
       "<style scoped>\n",
       "    .dataframe tbody tr th:only-of-type {\n",
       "        vertical-align: middle;\n",
       "    }\n",
       "\n",
       "    .dataframe tbody tr th {\n",
       "        vertical-align: top;\n",
       "    }\n",
       "\n",
       "    .dataframe thead th {\n",
       "        text-align: right;\n",
       "    }\n",
       "</style>\n",
       "<table border=\"1\" class=\"dataframe\">\n",
       "  <thead>\n",
       "    <tr style=\"text-align: right;\">\n",
       "      <th></th>\n",
       "      <th>city</th>\n",
       "      <th>price</th>\n",
       "      <th>year</th>\n",
       "      <th>manufacturer</th>\n",
       "      <th>make</th>\n",
       "      <th>condition</th>\n",
       "      <th>cylinders</th>\n",
       "      <th>fuel</th>\n",
       "      <th>odometer</th>\n",
       "      <th>transmission</th>\n",
       "      <th>drive</th>\n",
       "      <th>size</th>\n",
       "      <th>type</th>\n",
       "      <th>paint_color</th>\n",
       "    </tr>\n",
       "  </thead>\n",
       "  <tbody>\n",
       "    <tr>\n",
       "      <th>0</th>\n",
       "      <td>abilene, TX</td>\n",
       "      <td>9000</td>\n",
       "      <td>2009.0</td>\n",
       "      <td>chevrolet</td>\n",
       "      <td>suburban lt2</td>\n",
       "      <td>good</td>\n",
       "      <td>8 cylinders</td>\n",
       "      <td>gas</td>\n",
       "      <td>217743.0</td>\n",
       "      <td>automatic</td>\n",
       "      <td>rwd</td>\n",
       "      <td>full-size</td>\n",
       "      <td>SUV</td>\n",
       "      <td>white</td>\n",
       "    </tr>\n",
       "    <tr>\n",
       "      <th>1</th>\n",
       "      <td>abilene, TX</td>\n",
       "      <td>31999</td>\n",
       "      <td>2012.0</td>\n",
       "      <td>ram</td>\n",
       "      <td>2500</td>\n",
       "      <td>NaN</td>\n",
       "      <td>NaN</td>\n",
       "      <td>diesel</td>\n",
       "      <td>NaN</td>\n",
       "      <td>automatic</td>\n",
       "      <td>NaN</td>\n",
       "      <td>NaN</td>\n",
       "      <td>NaN</td>\n",
       "      <td>NaN</td>\n",
       "    </tr>\n",
       "    <tr>\n",
       "      <th>2</th>\n",
       "      <td>abilene, TX</td>\n",
       "      <td>16990</td>\n",
       "      <td>2003.0</td>\n",
       "      <td>ram</td>\n",
       "      <td>3500</td>\n",
       "      <td>NaN</td>\n",
       "      <td>NaN</td>\n",
       "      <td>diesel</td>\n",
       "      <td>NaN</td>\n",
       "      <td>manual</td>\n",
       "      <td>NaN</td>\n",
       "      <td>NaN</td>\n",
       "      <td>NaN</td>\n",
       "      <td>NaN</td>\n",
       "    </tr>\n",
       "    <tr>\n",
       "      <th>3</th>\n",
       "      <td>abilene, TX</td>\n",
       "      <td>6000</td>\n",
       "      <td>2002.0</td>\n",
       "      <td>gmc</td>\n",
       "      <td>sierra 1500</td>\n",
       "      <td>good</td>\n",
       "      <td>8 cylinders</td>\n",
       "      <td>gas</td>\n",
       "      <td>195000.0</td>\n",
       "      <td>automatic</td>\n",
       "      <td>4wd</td>\n",
       "      <td>NaN</td>\n",
       "      <td>pickup</td>\n",
       "      <td>white</td>\n",
       "    </tr>\n",
       "    <tr>\n",
       "      <th>4</th>\n",
       "      <td>abilene, TX</td>\n",
       "      <td>37000</td>\n",
       "      <td>2012.0</td>\n",
       "      <td>chevrolet</td>\n",
       "      <td>3500</td>\n",
       "      <td>excellent</td>\n",
       "      <td>8 cylinders</td>\n",
       "      <td>diesel</td>\n",
       "      <td>178000.0</td>\n",
       "      <td>automatic</td>\n",
       "      <td>4wd</td>\n",
       "      <td>full-size</td>\n",
       "      <td>pickup</td>\n",
       "      <td>silver</td>\n",
       "    </tr>\n",
       "  </tbody>\n",
       "</table>\n",
       "</div>"
      ],
      "text/plain": [
       "          city  price    year manufacturer          make  condition    cylinders    fuel  odometer transmission drive       size    type paint_color\n",
       "0  abilene, TX   9000  2009.0    chevrolet  suburban lt2       good  8 cylinders     gas  217743.0    automatic   rwd  full-size     SUV       white\n",
       "1  abilene, TX  31999  2012.0          ram          2500        NaN          NaN  diesel       NaN    automatic   NaN        NaN     NaN         NaN\n",
       "2  abilene, TX  16990  2003.0          ram          3500        NaN          NaN  diesel       NaN       manual   NaN        NaN     NaN         NaN\n",
       "3  abilene, TX   6000  2002.0          gmc   sierra 1500       good  8 cylinders     gas  195000.0    automatic   4wd        NaN  pickup       white\n",
       "4  abilene, TX  37000  2012.0    chevrolet          3500  excellent  8 cylinders  diesel  178000.0    automatic   4wd  full-size  pickup      silver"
      ]
     },
     "execution_count": 6,
     "metadata": {},
     "output_type": "execute_result"
    }
   ],
   "source": [
    "df.head()"
   ]
  },
  {
   "cell_type": "markdown",
   "metadata": {},
   "source": [
    "## Price difference by odometer per year"
   ]
  },
  {
   "cell_type": "code",
   "execution_count": 7,
   "metadata": {},
   "outputs": [
    {
     "data": {
      "text/html": [
       "<div>\n",
       "<style scoped>\n",
       "    .dataframe tbody tr th:only-of-type {\n",
       "        vertical-align: middle;\n",
       "    }\n",
       "\n",
       "    .dataframe tbody tr th {\n",
       "        vertical-align: top;\n",
       "    }\n",
       "\n",
       "    .dataframe thead th {\n",
       "        text-align: right;\n",
       "    }\n",
       "</style>\n",
       "<table border=\"1\" class=\"dataframe\">\n",
       "  <thead>\n",
       "    <tr style=\"text-align: right;\">\n",
       "      <th></th>\n",
       "      <th>city</th>\n",
       "      <th>price</th>\n",
       "      <th>year</th>\n",
       "      <th>manufacturer</th>\n",
       "      <th>make</th>\n",
       "      <th>condition</th>\n",
       "      <th>cylinders</th>\n",
       "      <th>fuel</th>\n",
       "      <th>odometer</th>\n",
       "      <th>transmission</th>\n",
       "      <th>drive</th>\n",
       "      <th>size</th>\n",
       "      <th>type</th>\n",
       "      <th>paint_color</th>\n",
       "      <th>using_period</th>\n",
       "      <th>odometer_per_yr</th>\n",
       "      <th>odometer_grp</th>\n",
       "    </tr>\n",
       "  </thead>\n",
       "  <tbody>\n",
       "    <tr>\n",
       "      <th>0</th>\n",
       "      <td>abilene, TX</td>\n",
       "      <td>9000</td>\n",
       "      <td>2009.0</td>\n",
       "      <td>chevrolet</td>\n",
       "      <td>suburban lt2</td>\n",
       "      <td>good</td>\n",
       "      <td>8 cylinders</td>\n",
       "      <td>gas</td>\n",
       "      <td>217743.0</td>\n",
       "      <td>automatic</td>\n",
       "      <td>rwd</td>\n",
       "      <td>full-size</td>\n",
       "      <td>SUV</td>\n",
       "      <td>white</td>\n",
       "      <td>12.0</td>\n",
       "      <td>18145.250000</td>\n",
       "      <td>1</td>\n",
       "    </tr>\n",
       "    <tr>\n",
       "      <th>3</th>\n",
       "      <td>abilene, TX</td>\n",
       "      <td>6000</td>\n",
       "      <td>2002.0</td>\n",
       "      <td>gmc</td>\n",
       "      <td>sierra 1500</td>\n",
       "      <td>good</td>\n",
       "      <td>8 cylinders</td>\n",
       "      <td>gas</td>\n",
       "      <td>195000.0</td>\n",
       "      <td>automatic</td>\n",
       "      <td>4wd</td>\n",
       "      <td>NaN</td>\n",
       "      <td>pickup</td>\n",
       "      <td>white</td>\n",
       "      <td>19.0</td>\n",
       "      <td>10263.157895</td>\n",
       "      <td>1</td>\n",
       "    </tr>\n",
       "    <tr>\n",
       "      <th>4</th>\n",
       "      <td>abilene, TX</td>\n",
       "      <td>37000</td>\n",
       "      <td>2012.0</td>\n",
       "      <td>chevrolet</td>\n",
       "      <td>3500</td>\n",
       "      <td>excellent</td>\n",
       "      <td>8 cylinders</td>\n",
       "      <td>diesel</td>\n",
       "      <td>178000.0</td>\n",
       "      <td>automatic</td>\n",
       "      <td>4wd</td>\n",
       "      <td>full-size</td>\n",
       "      <td>pickup</td>\n",
       "      <td>silver</td>\n",
       "      <td>9.0</td>\n",
       "      <td>19777.777778</td>\n",
       "      <td>1</td>\n",
       "    </tr>\n",
       "    <tr>\n",
       "      <th>5</th>\n",
       "      <td>abilene, TX</td>\n",
       "      <td>3700</td>\n",
       "      <td>2003.0</td>\n",
       "      <td>NaN</td>\n",
       "      <td>F150</td>\n",
       "      <td>fair</td>\n",
       "      <td>8 cylinders</td>\n",
       "      <td>gas</td>\n",
       "      <td>269000.0</td>\n",
       "      <td>automatic</td>\n",
       "      <td>4wd</td>\n",
       "      <td>NaN</td>\n",
       "      <td>pickup</td>\n",
       "      <td>silver</td>\n",
       "      <td>18.0</td>\n",
       "      <td>14944.444444</td>\n",
       "      <td>1</td>\n",
       "    </tr>\n",
       "    <tr>\n",
       "      <th>6</th>\n",
       "      <td>abilene, TX</td>\n",
       "      <td>19950</td>\n",
       "      <td>2013.0</td>\n",
       "      <td>ford</td>\n",
       "      <td>f-250</td>\n",
       "      <td>NaN</td>\n",
       "      <td>8 cylinders</td>\n",
       "      <td>gas</td>\n",
       "      <td>116792.0</td>\n",
       "      <td>automatic</td>\n",
       "      <td>4wd</td>\n",
       "      <td>full-size</td>\n",
       "      <td>pickup</td>\n",
       "      <td>white</td>\n",
       "      <td>8.0</td>\n",
       "      <td>14599.000000</td>\n",
       "      <td>1</td>\n",
       "    </tr>\n",
       "  </tbody>\n",
       "</table>\n",
       "</div>"
      ],
      "text/plain": [
       "          city  price    year manufacturer          make  condition    cylinders    fuel  odometer transmission drive       size    type paint_color  using_period  odometer_per_yr  odometer_grp\n",
       "0  abilene, TX   9000  2009.0    chevrolet  suburban lt2       good  8 cylinders     gas  217743.0    automatic   rwd  full-size     SUV       white          12.0     18145.250000             1\n",
       "3  abilene, TX   6000  2002.0          gmc   sierra 1500       good  8 cylinders     gas  195000.0    automatic   4wd        NaN  pickup       white          19.0     10263.157895             1\n",
       "4  abilene, TX  37000  2012.0    chevrolet          3500  excellent  8 cylinders  diesel  178000.0    automatic   4wd  full-size  pickup      silver           9.0     19777.777778             1\n",
       "5  abilene, TX   3700  2003.0          NaN          F150       fair  8 cylinders     gas  269000.0    automatic   4wd        NaN  pickup      silver          18.0     14944.444444             1\n",
       "6  abilene, TX  19950  2013.0         ford         f-250        NaN  8 cylinders     gas  116792.0    automatic   4wd  full-size  pickup       white           8.0     14599.000000             1"
      ]
     },
     "execution_count": 7,
     "metadata": {},
     "output_type": "execute_result"
    }
   ],
   "source": [
    "odo_df = df[df.odometer.notna()]\n",
    "odo_df['using_period'] = 2019 - odo_df.year + 2\n",
    "odo_df['odometer_per_yr'] = odo_df.odometer / odo_df.using_period\n",
    "odo_df.odometer_per_yr = odo_df.odometer_per_yr.fillna(-1)\n",
    "odo_df['odometer_grp'] = (odo_df.odometer_per_yr / 10000).astype(int)\n",
    "odo_df.head()"
   ]
  },
  {
   "cell_type": "code",
   "execution_count": 8,
   "metadata": {},
   "outputs": [],
   "source": [
    "q1 = odo_df.groupby('odometer_grp').price.mean().quantile(.25)\n",
    "q3 = odo_df.groupby('odometer_grp').price.mean().quantile(.75)\n",
    "mask = odo_df.groupby('odometer_grp').price.mean().between(q1, q3, inclusive=True)\n",
    "iqr = odo_df.groupby('odometer_grp').price.mean()[mask]"
   ]
  },
  {
   "cell_type": "code",
   "execution_count": 9,
   "metadata": {},
   "outputs": [],
   "source": [
    "odo_sample_df = odo_df[odo_df.odometer_grp.isin(iqr.index)][['odometer_grp', 'price']]"
   ]
  },
  {
   "cell_type": "code",
   "execution_count": 10,
   "metadata": {},
   "outputs": [
    {
     "data": {
      "text/plain": [
       "array([  2,   3,   5,  15,  12,   9,  11,  14, 113,  69,  17,  44,  61,\n",
       "        71,  58,  25,  16,  46,  30,  51,  21,  70,  63, 108,  96,  24,\n",
       "        65,  31])"
      ]
     },
     "execution_count": 10,
     "metadata": {},
     "output_type": "execute_result"
    }
   ],
   "source": [
    "odo_sample_df.odometer_grp.unique()"
   ]
  },
  {
   "cell_type": "code",
   "execution_count": 11,
   "metadata": {},
   "outputs": [],
   "source": [
    "odo_data = []\n",
    "for o in odo_sample_df.odometer_grp.unique():\n",
    "    odo_data.append(odo_sample_df[odo_sample_df.odometer_grp == o].price.values)"
   ]
  },
  {
   "cell_type": "code",
   "execution_count": 12,
   "metadata": {},
   "outputs": [],
   "source": [
    "F_statistic, pVal = stats.f_oneway(*odo_data)"
   ]
  },
  {
   "cell_type": "code",
   "execution_count": 13,
   "metadata": {},
   "outputs": [
    {
     "data": {
      "text/plain": [
       "4.0337940923268076e-13"
      ]
     },
     "execution_count": 13,
     "metadata": {},
     "output_type": "execute_result"
    }
   ],
   "source": [
    "pVal"
   ]
  },
  {
   "cell_type": "code",
   "execution_count": 14,
   "metadata": {},
   "outputs": [
    {
     "data": {
      "text/plain": [
       "<matplotlib.axes._subplots.AxesSubplot at 0x7f4a86004b70>"
      ]
     },
     "execution_count": 14,
     "metadata": {},
     "output_type": "execute_result"
    },
    {
     "data": {
      "image/png": "[encoded data removed]",
      "text/plain": [
       "<Figure size 1440x504 with 1 Axes>"
      ]
     },
     "metadata": {},
     "output_type": "display_data"
    }
   ],
   "source": [
    "iqr.plot(kind='bar', figsize=(20, 7), title='Price difference by odometer per year (p-value: %f)' % pVal)"
   ]
  },
  {
   "cell_type": "markdown",
   "metadata": {},
   "source": [
    "## Price difference by color in same model (Chevrolet Silverado)"
   ]
  },
  {
   "cell_type": "markdown",
   "metadata": {},
   "source": [
    "* year: 2016\n",
    "* condition: Excellent\n",
    "* cyliner type: 6 cylinders\n",
    "* drivetrain layout: 4WD\n",
    "* size: Full size\n",
    "* type: Truck"
   ]
  },
  {
   "cell_type": "code",
   "execution_count": 60,
   "metadata": {},
   "outputs": [
    {
     "data": {
      "text/html": [
       "<div>\n",
       "<style scoped>\n",
       "    .dataframe tbody tr th:only-of-type {\n",
       "        vertical-align: middle;\n",
       "    }\n",
       "\n",
       "    .dataframe tbody tr th {\n",
       "        vertical-align: top;\n",
       "    }\n",
       "\n",
       "    .dataframe thead th {\n",
       "        text-align: right;\n",
       "    }\n",
       "</style>\n",
       "<table border=\"1\" class=\"dataframe\">\n",
       "  <thead>\n",
       "    <tr style=\"text-align: right;\">\n",
       "      <th></th>\n",
       "      <th>manufacturer</th>\n",
       "      <th>make</th>\n",
       "      <th>index</th>\n",
       "    </tr>\n",
       "  </thead>\n",
       "  <tbody>\n",
       "    <tr>\n",
       "      <th>10594</th>\n",
       "      <td>ford</td>\n",
       "      <td>f-150</td>\n",
       "      <td>11977</td>\n",
       "    </tr>\n",
       "    <tr>\n",
       "      <th>5740</th>\n",
       "      <td>chevrolet</td>\n",
       "      <td>silverado 1500</td>\n",
       "      <td>7543</td>\n",
       "    </tr>\n",
       "    <tr>\n",
       "      <th>25011</th>\n",
       "      <td>ram</td>\n",
       "      <td>1500</td>\n",
       "      <td>6891</td>\n",
       "    </tr>\n",
       "    <tr>\n",
       "      <th>5731</th>\n",
       "      <td>chevrolet</td>\n",
       "      <td>silverado</td>\n",
       "      <td>5801</td>\n",
       "    </tr>\n",
       "    <tr>\n",
       "      <th>16369</th>\n",
       "      <td>honda</td>\n",
       "      <td>accord</td>\n",
       "      <td>4390</td>\n",
       "    </tr>\n",
       "  </tbody>\n",
       "</table>\n",
       "</div>"
      ],
      "text/plain": [
       "      manufacturer            make  index\n",
       "10594         ford           f-150  11977\n",
       "5740     chevrolet  silverado 1500   7543\n",
       "25011          ram            1500   6891\n",
       "5731     chevrolet       silverado   5801\n",
       "16369        honda          accord   4390"
      ]
     },
     "execution_count": 60,
     "metadata": {},
     "output_type": "execute_result"
    }
   ],
   "source": [
    "df.reset_index().groupby(['manufacturer', 'make'])['index'].count().reset_index().sort_values('index', ascending=False).head()"
   ]
  },
  {
   "cell_type": "code",
   "execution_count": 61,
   "metadata": {},
   "outputs": [
    {
     "data": {
      "text/plain": [
       "array([nan, 'green', 'black', 'red', 'white', 'custom', 'blue', 'brown',\n",
       "       'grey', 'silver', 'orange', 'purple', 'yellow'], dtype=object)"
      ]
     },
     "execution_count": 61,
     "metadata": {},
     "output_type": "execute_result"
    }
   ],
   "source": [
    "df[(df.manufacturer == 'chevrolet') & (df.make == 'silverado')].paint_color.unique()"
   ]
  },
  {
   "cell_type": "code",
   "execution_count": 62,
   "metadata": {},
   "outputs": [],
   "source": [
    "sample_car_df = df[(df.manufacturer == 'chevrolet') & (df.make == 'silverado')]"
   ]
  },
  {
   "cell_type": "code",
   "execution_count": 63,
   "metadata": {},
   "outputs": [
    {
     "data": {
      "text/html": [
       "<div>\n",
       "<style scoped>\n",
       "    .dataframe tbody tr th:only-of-type {\n",
       "        vertical-align: middle;\n",
       "    }\n",
       "\n",
       "    .dataframe tbody tr th {\n",
       "        vertical-align: top;\n",
       "    }\n",
       "\n",
       "    .dataframe thead th {\n",
       "        text-align: right;\n",
       "    }\n",
       "</style>\n",
       "<table border=\"1\" class=\"dataframe\">\n",
       "  <thead>\n",
       "    <tr style=\"text-align: right;\">\n",
       "      <th></th>\n",
       "      <th>city</th>\n",
       "      <th>price</th>\n",
       "      <th>year</th>\n",
       "      <th>manufacturer</th>\n",
       "      <th>make</th>\n",
       "      <th>condition</th>\n",
       "      <th>cylinders</th>\n",
       "      <th>fuel</th>\n",
       "      <th>odometer</th>\n",
       "      <th>transmission</th>\n",
       "      <th>drive</th>\n",
       "      <th>size</th>\n",
       "      <th>type</th>\n",
       "      <th>paint_color</th>\n",
       "    </tr>\n",
       "  </thead>\n",
       "  <tbody>\n",
       "    <tr>\n",
       "      <th>95</th>\n",
       "      <td>albany, NY</td>\n",
       "      <td>19900</td>\n",
       "      <td>2011.0</td>\n",
       "      <td>chevrolet</td>\n",
       "      <td>silverado</td>\n",
       "      <td>excellent</td>\n",
       "      <td>8 cylinders</td>\n",
       "      <td>gas</td>\n",
       "      <td>71300.0</td>\n",
       "      <td>automatic</td>\n",
       "      <td>NaN</td>\n",
       "      <td>NaN</td>\n",
       "      <td>NaN</td>\n",
       "      <td>NaN</td>\n",
       "    </tr>\n",
       "    <tr>\n",
       "      <th>204</th>\n",
       "      <td>albany, NY</td>\n",
       "      <td>7995</td>\n",
       "      <td>2005.0</td>\n",
       "      <td>chevrolet</td>\n",
       "      <td>silverado</td>\n",
       "      <td>excellent</td>\n",
       "      <td>8 cylinders</td>\n",
       "      <td>gas</td>\n",
       "      <td>124715.0</td>\n",
       "      <td>automatic</td>\n",
       "      <td>4wd</td>\n",
       "      <td>full-size</td>\n",
       "      <td>truck</td>\n",
       "      <td>green</td>\n",
       "    </tr>\n",
       "    <tr>\n",
       "      <th>205</th>\n",
       "      <td>albany, NY</td>\n",
       "      <td>27000</td>\n",
       "      <td>2012.0</td>\n",
       "      <td>chevrolet</td>\n",
       "      <td>silverado</td>\n",
       "      <td>NaN</td>\n",
       "      <td>NaN</td>\n",
       "      <td>diesel</td>\n",
       "      <td>NaN</td>\n",
       "      <td>automatic</td>\n",
       "      <td>NaN</td>\n",
       "      <td>NaN</td>\n",
       "      <td>NaN</td>\n",
       "      <td>NaN</td>\n",
       "    </tr>\n",
       "    <tr>\n",
       "      <th>366</th>\n",
       "      <td>amarillo, TX</td>\n",
       "      <td>16579</td>\n",
       "      <td>2008.0</td>\n",
       "      <td>chevrolet</td>\n",
       "      <td>silverado</td>\n",
       "      <td>excellent</td>\n",
       "      <td>NaN</td>\n",
       "      <td>diesel</td>\n",
       "      <td>NaN</td>\n",
       "      <td>automatic</td>\n",
       "      <td>NaN</td>\n",
       "      <td>NaN</td>\n",
       "      <td>NaN</td>\n",
       "      <td>NaN</td>\n",
       "    </tr>\n",
       "    <tr>\n",
       "      <th>387</th>\n",
       "      <td>amarillo, TX</td>\n",
       "      <td>53468</td>\n",
       "      <td>2015.0</td>\n",
       "      <td>chevrolet</td>\n",
       "      <td>silverado</td>\n",
       "      <td>excellent</td>\n",
       "      <td>NaN</td>\n",
       "      <td>diesel</td>\n",
       "      <td>NaN</td>\n",
       "      <td>automatic</td>\n",
       "      <td>NaN</td>\n",
       "      <td>NaN</td>\n",
       "      <td>NaN</td>\n",
       "      <td>NaN</td>\n",
       "    </tr>\n",
       "  </tbody>\n",
       "</table>\n",
       "</div>"
      ],
      "text/plain": [
       "             city  price    year manufacturer       make  condition    cylinders    fuel  odometer transmission drive       size   type paint_color\n",
       "95     albany, NY  19900  2011.0    chevrolet  silverado  excellent  8 cylinders     gas   71300.0    automatic   NaN        NaN    NaN         NaN\n",
       "204    albany, NY   7995  2005.0    chevrolet  silverado  excellent  8 cylinders     gas  124715.0    automatic   4wd  full-size  truck       green\n",
       "205    albany, NY  27000  2012.0    chevrolet  silverado        NaN          NaN  diesel       NaN    automatic   NaN        NaN    NaN         NaN\n",
       "366  amarillo, TX  16579  2008.0    chevrolet  silverado  excellent          NaN  diesel       NaN    automatic   NaN        NaN    NaN         NaN\n",
       "387  amarillo, TX  53468  2015.0    chevrolet  silverado  excellent          NaN  diesel       NaN    automatic   NaN        NaN    NaN         NaN"
      ]
     },
     "execution_count": 63,
     "metadata": {},
     "output_type": "execute_result"
    }
   ],
   "source": [
    "sample_car_df.head()"
   ]
  },
  {
   "cell_type": "code",
   "execution_count": 64,
   "metadata": {},
   "outputs": [],
   "source": [
    "sample_year = sample_car_df.groupby('year').city.count().sort_values(ascending=False).head(1).index[0]"
   ]
  },
  {
   "cell_type": "code",
   "execution_count": 65,
   "metadata": {},
   "outputs": [],
   "source": [
    "condition = (sample_car_df.year == sample_year)"
   ]
  },
  {
   "cell_type": "code",
   "execution_count": 66,
   "metadata": {},
   "outputs": [],
   "source": [
    "sample_condition = sample_car_df[condition].groupby('condition').city.count().sort_values(ascending=False).head(1).index[0]"
   ]
  },
  {
   "cell_type": "code",
   "execution_count": 67,
   "metadata": {},
   "outputs": [],
   "source": [
    "condition = condition & (sample_car_df.condition == sample_condition)"
   ]
  },
  {
   "cell_type": "code",
   "execution_count": 69,
   "metadata": {},
   "outputs": [],
   "source": [
    "sample_cylinders = sample_car_df[condition].groupby('cylinders').city.count().sort_values(ascending=False).head(1).index[0]"
   ]
  },
  {
   "cell_type": "code",
   "execution_count": 70,
   "metadata": {},
   "outputs": [],
   "source": [
    "condition = condition & (sample_car_df.cylinders == sample_cylinders)"
   ]
  },
  {
   "cell_type": "code",
   "execution_count": 71,
   "metadata": {},
   "outputs": [],
   "source": [
    "sample_transmission = sample_car_df[condition].groupby('transmission').city.count().sort_values(ascending=False).head(1).index[0]"
   ]
  },
  {
   "cell_type": "code",
   "execution_count": 72,
   "metadata": {},
   "outputs": [],
   "source": [
    "condition = condition & (sample_car_df.transmission == sample_transmission)"
   ]
  },
  {
   "cell_type": "code",
   "execution_count": 73,
   "metadata": {},
   "outputs": [],
   "source": [
    "sample_fuel = sample_car_df[condition].groupby('fuel').city.count().sort_values(ascending=False).head(1).index[0]"
   ]
  },
  {
   "cell_type": "code",
   "execution_count": 74,
   "metadata": {},
   "outputs": [],
   "source": [
    "condition = condition & (sample_car_df.fuel == sample_fuel)"
   ]
  },
  {
   "cell_type": "code",
   "execution_count": 75,
   "metadata": {},
   "outputs": [],
   "source": [
    "sample_drive = sample_car_df[condition].groupby('drive').city.count().sort_values(ascending=False).head(1).index[0]"
   ]
  },
  {
   "cell_type": "code",
   "execution_count": 76,
   "metadata": {},
   "outputs": [],
   "source": [
    "condition = condition & (sample_car_df.drive == sample_drive)"
   ]
  },
  {
   "cell_type": "code",
   "execution_count": 77,
   "metadata": {},
   "outputs": [],
   "source": [
    "sample_size = sample_car_df[condition].groupby('size').city.count().sort_values(ascending=False).head(1).index[0]"
   ]
  },
  {
   "cell_type": "code",
   "execution_count": 78,
   "metadata": {},
   "outputs": [],
   "source": [
    "condition = condition & (sample_car_df['size'] == sample_size)"
   ]
  },
  {
   "cell_type": "code",
   "execution_count": 80,
   "metadata": {},
   "outputs": [],
   "source": [
    "sample_type = sample_car_df[condition].groupby('type').city.count().sort_values(ascending=False).head(1).index[0]"
   ]
  },
  {
   "cell_type": "code",
   "execution_count": 81,
   "metadata": {},
   "outputs": [],
   "source": [
    "condition = condition & (sample_car_df['type'] == sample_type)"
   ]
  },
  {
   "cell_type": "code",
   "execution_count": 91,
   "metadata": {},
   "outputs": [
    {
     "name": "stdout",
     "output_type": "stream",
     "text": [
      "year: 2015\n",
      "condition: excellent\n",
      "cylinder type: 8 cylinders\n",
      "transmission type: automatic\n",
      "fuel type: gas\n",
      "drivetrain layout: 4wd\n",
      "size: full-size\n",
      "type: truck\n"
     ]
    }
   ],
   "source": [
    "print('year: %d\\ncondition: %s\\ncylinder type: %s\\ntransmission type: %s\\nfuel type: %s\\ndrivetrain layout: %s\\nsize: %s\\ntype: %s' % (sample_year, sample_condition, sample_cylinders, sample_transmission, sample_fuel, sample_drive, sample_size, sample_type))"
   ]
  },
  {
   "cell_type": "code",
   "execution_count": 82,
   "metadata": {},
   "outputs": [],
   "source": [
    "color_sample_df = sample_car_df[condition][['paint_color', 'price']]"
   ]
  },
  {
   "cell_type": "code",
   "execution_count": 83,
   "metadata": {},
   "outputs": [
    {
     "data": {
      "text/plain": [
       "array(['white', 'silver', 'black', 'red', 'blue'], dtype=object)"
      ]
     },
     "execution_count": 83,
     "metadata": {},
     "output_type": "execute_result"
    }
   ],
   "source": [
    "color_sample_df.paint_color.unique()"
   ]
  },
  {
   "cell_type": "code",
   "execution_count": 84,
   "metadata": {},
   "outputs": [],
   "source": [
    "color_data = []\n",
    "for c in color_sample_df.paint_color.unique():\n",
    "    color_data.append(color_sample_df[color_sample_df.paint_color == c].price.values)"
   ]
  },
  {
   "cell_type": "code",
   "execution_count": 85,
   "metadata": {},
   "outputs": [],
   "source": [
    "F_statistic, pVal = stats.f_oneway(*color_data)"
   ]
  },
  {
   "cell_type": "code",
   "execution_count": 86,
   "metadata": {},
   "outputs": [
    {
     "data": {
      "text/plain": [
       "0.021701001044584403"
      ]
     },
     "execution_count": 86,
     "metadata": {},
     "output_type": "execute_result"
    }
   ],
   "source": [
    "pVal"
   ]
  },
  {
   "cell_type": "code",
   "execution_count": 95,
   "metadata": {},
   "outputs": [
    {
     "data": {
      "image/png": "[encoded data removed]",
      "text/plain": [
       "<Figure size 1440x504 with 1 Axes>"
      ]
     },
     "metadata": {},
     "output_type": "display_data"
    }
   ],
   "source": [
    "plot1 = sample_car_df[condition].groupby('paint_color').price.mean().plot(kind='bar', figsize=(20, 7), title='Price difference by color on the same model (p-value: %f)' % pVal).figure"
   ]
  },
  {
   "cell_type": "code",
   "execution_count": 96,
   "metadata": {},
   "outputs": [],
   "source": [
    "plot1.show()"
   ]
  },
  {
   "cell_type": "code",
   "execution_count": null,
   "metadata": {},
   "outputs": [],
   "source": []
  }
 ],
 "metadata": {
  "kernelspec": {
   "display_name": "kyle_python",
   "language": "python",
   "name": "kyle_jupyter"
  },
  "language_info": {
   "codemirror_mode": {
    "name": "ipython",
    "version": 3
   },
   "file_extension": ".py",
   "mimetype": "text/x-python",
   "name": "python",
   "nbconvert_exporter": "python",
   "pygments_lexer": "ipython3",
   "version": "3.6.7"
  }
 },
 "nbformat": 4,
 "nbformat_minor": 2
}
